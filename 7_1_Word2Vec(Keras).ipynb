{
  "nbformat": 4,
  "nbformat_minor": 0,
  "metadata": {
    "colab": {
      "name": "7.1_Word2Vec(Keras).ipynb",
      "provenance": [],
      "collapsed_sections": []
    },
    "kernelspec": {
      "name": "python3",
      "display_name": "Python 3"
    },
    "accelerator": "GPU"
  },
  "cells": [
    {
      "cell_type": "markdown",
      "metadata": {
        "id": "Mk3q9W0DjH5G"
      },
      "source": [
        "# 케라스 Word2Vec 구현\n",
        "\n",
        "* 참고: https://wikidocs.net/69141"
      ]
    },
    {
      "cell_type": "markdown",
      "metadata": {
        "id": "RxZOa3m8qFw3"
      },
      "source": [
        "### 전처리"
      ]
    },
    {
      "cell_type": "code",
      "metadata": {
        "id": "ohSE_JnMSRDR",
        "colab": {
          "base_uri": "https://localhost:8080/",
          "height": 149
        },
        "outputId": "e95521fe-ed2b-4efb-a527-1f25b072f87f"
      },
      "source": [
        "from sklearn.datasets import fetch_20newsgroups\n",
        "\n",
        "dataset  = fetch_20newsgroups(shuffle=True, random_state=1,\n",
        "                             remove=('headers','footer','quotes'))\n",
        "documents = dataset.data\n",
        "\n",
        "print(len(documents))\n",
        "documents[1]"
      ],
      "execution_count": 10,
      "outputs": [
        {
          "output_type": "stream",
          "name": "stdout",
          "text": [
            "11314\n"
          ]
        },
        {
          "output_type": "execute_result",
          "data": {
            "application/vnd.google.colaboratory.intrinsic+json": {
              "type": "string"
            },
            "text/plain": [
              "'\\n\\n\\n\\n\\n\\n\\n\\nYeah, do you expect people to read the FAQ, etc. and actually accept hard\\natheism?  No, you need a little leap of faith, Jimmy.  Your logic runs out\\nof steam!\\n\\n\\n\\n\\n\\n\\n\\nJim,\\n\\nSorry I can\\'t pity you, Jim.  And I\\'m sorry that you have these feelings of\\ndenial about the faith you need to get by.  Oh well, just pretend that it will\\nall end happily ever after anyway.  Maybe if you start a new newsgroup,\\nalt.atheist.hard, you won\\'t be bummin\\' so much?\\n\\n\\n\\n\\n\\n\\nBye-Bye, Big Jim.  Don\\'t forget your Flintstone\\'s Chewables!  :) \\n--\\nBake Timmons, III\\n\\n-- \"...there\\'s nothing higher, stronger, more wholesome and more useful in life\\nthan some good memory...\" -- Alyosha in Brothers Karamazov (Dostoevsky)\\n'"
            ]
          },
          "metadata": {},
          "execution_count": 10
        }
      ]
    },
    {
      "cell_type": "code",
      "metadata": {
        "id": "QCo9S9RlrfQg",
        "colab": {
          "base_uri": "https://localhost:8080/"
        },
        "outputId": "1ed7cda6-0ed9-4e9b-88ce-d14051eaf37f"
      },
      "source": [
        "import re\n",
        "import nltk\n",
        "\n",
        "from nltk.corpus import stopwords\n",
        "from nltk.tokenize import word_tokenize\n",
        "\n",
        "nltk.download('stopwords')\n",
        "nltk.download('punkt')\n",
        "\n",
        "def clean_text(d):\n",
        "  pattern = r'[^a-zA-Z\\s]'\n",
        "  text = re.sub(pattern, '', d)\n",
        "  return text\n",
        "\n",
        "def clean_stopword(d):\n",
        "  stop_words = stopwords.words('english')\n",
        "  return ' '.join([w.lower() for w in d.split() if w.lower() not in stop_words and len(w) > 3])\n",
        "\n",
        "def tokenize(d):\n",
        "  return word_tokenize(d)\n"
      ],
      "execution_count": 15,
      "outputs": [
        {
          "output_type": "stream",
          "name": "stdout",
          "text": [
            "[nltk_data] Downloading package stopwords to /root/nltk_data...\n",
            "[nltk_data]   Package stopwords is already up-to-date!\n",
            "[nltk_data] Downloading package punkt to /root/nltk_data...\n",
            "[nltk_data]   Package punkt is already up-to-date!\n"
          ]
        }
      ]
    },
    {
      "cell_type": "code",
      "metadata": {
        "id": "9xzZu6Iprj5B",
        "colab": {
          "base_uri": "https://localhost:8080/"
        },
        "outputId": "a9db1ee5-f18f-4a70-e935-a1d708ea7161"
      },
      "source": [
        "import pandas as pd\n",
        "\n",
        "news_df = pd.DataFrame({'article':documents})\n",
        "len(news_df)"
      ],
      "execution_count": 16,
      "outputs": [
        {
          "output_type": "execute_result",
          "data": {
            "text/plain": [
              "11314"
            ]
          },
          "metadata": {},
          "execution_count": 16
        }
      ]
    },
    {
      "cell_type": "code",
      "metadata": {
        "id": "Oi3PJ7dMsF8K",
        "colab": {
          "base_uri": "https://localhost:8080/"
        },
        "outputId": "060b2694-0fc0-42d7-9bf1-e37eba0452bf"
      },
      "source": [
        "news_df.replace(\"\", float('NaN'), inplace=True)\n",
        "news_df.dropna(inplace=True)\n",
        "len(news_df)"
      ],
      "execution_count": 17,
      "outputs": [
        {
          "output_type": "execute_result",
          "data": {
            "text/plain": [
              "11307"
            ]
          },
          "metadata": {},
          "execution_count": 17
        }
      ]
    },
    {
      "cell_type": "code",
      "metadata": {
        "id": "ViSra6MYuM9x",
        "colab": {
          "base_uri": "https://localhost:8080/"
        },
        "outputId": "8de00ca7-85aa-42e3-a733-72c424e138a2"
      },
      "source": [
        "news_df['article'] = news_df['article'].apply(clean_text)\n",
        "news_df['article'] "
      ],
      "execution_count": 18,
      "outputs": [
        {
          "output_type": "execute_result",
          "data": {
            "text/plain": [
              "0        Well im not sure about the story nad it did se...\n",
              "1        \\n\\n\\n\\n\\n\\n\\n\\nYeah do you expect people to r...\n",
              "2        \\n   Although I realize that principle is not ...\n",
              "3        \\n    Notwithstanding all the legitimate fuss ...\n",
              "4        Well I will have to change the scoring on my p...\n",
              "                               ...                        \n",
              "11309    Danny Rubenstein an Israeli journalist will be...\n",
              "11310    \\n\\n\\nAn apt description of the content of jus...\n",
              "11311    \\nI agree  Home runs off Clemens are always me...\n",
              "11312    I used HP DeskJet with Orange Micros Grappler ...\n",
              "11313                                          \\nNo arg...\n",
              "Name: article, Length: 11307, dtype: object"
            ]
          },
          "metadata": {},
          "execution_count": 18
        }
      ]
    },
    {
      "cell_type": "code",
      "metadata": {
        "id": "Z3JgTpVfSRD_",
        "colab": {
          "base_uri": "https://localhost:8080/"
        },
        "outputId": "1e1cbf52-1443-449a-f565-ae05bfe207c7"
      },
      "source": [
        "news_df['article'] = news_df['article'].apply(clean_stopword)\n",
        "news_df['article']"
      ],
      "execution_count": 19,
      "outputs": [
        {
          "output_type": "execute_result",
          "data": {
            "text/plain": [
              "0        well sure story seem biased disagree statement...\n",
              "1        yeah expect people read actually accept hard a...\n",
              "2        although realize principle strongest points wo...\n",
              "3        notwithstanding legitimate fuss proposal much ...\n",
              "4        well change scoring playoff pool unfortunately...\n",
              "                               ...                        \n",
              "11309    danny rubenstein israeli journalist speaking t...\n",
              "11310    description content ronroths posts date least ...\n",
              "11311    agree home runs clemens always memorable kinda...\n",
              "11312    used deskjet orange micros grappler system upd...\n",
              "11313    argument murphy scared hell came last year han...\n",
              "Name: article, Length: 11307, dtype: object"
            ]
          },
          "metadata": {},
          "execution_count": 19
        }
      ]
    },
    {
      "cell_type": "code",
      "metadata": {
        "id": "uMCYgUIpSREH"
      },
      "source": [
        "tokenized_news = news_df['article'].apply(tokenize)\n",
        "tokenized_news = tokenized_news.to_list()"
      ],
      "execution_count": 20,
      "outputs": []
    },
    {
      "cell_type": "code",
      "metadata": {
        "id": "YI45-8AoZxR_",
        "colab": {
          "base_uri": "https://localhost:8080/"
        },
        "outputId": "ff1b13bc-a6df-4122-e769-dcfa910cf2c5"
      },
      "source": [
        "import numpy as np\n",
        "\n",
        "drop_news = [index for index, sentence in enumerate(tokenized_news) if len(sentence)<=1]\n",
        "news_texts  = np.delete(tokenized_news, drop_news, axis=0)\n",
        "print(len(news_texts))"
      ],
      "execution_count": 21,
      "outputs": [
        {
          "output_type": "stream",
          "name": "stdout",
          "text": [
            "11263\n"
          ]
        },
        {
          "output_type": "stream",
          "name": "stderr",
          "text": [
            "/usr/local/lib/python3.7/dist-packages/numpy/core/_asarray.py:83: VisibleDeprecationWarning: Creating an ndarray from ragged nested sequences (which is a list-or-tuple of lists-or-tuples-or ndarrays with different lengths or shapes) is deprecated. If you meant to do this, you must specify 'dtype=object' when creating the ndarray\n",
            "  return array(a, dtype, copy=False, order=order)\n"
          ]
        }
      ]
    },
    {
      "cell_type": "code",
      "metadata": {
        "id": "pSt1Tq7TZzmn"
      },
      "source": [
        "from tensorflow.keras.preprocessing.text import Tokenizer\n",
        "\n",
        "news_2000 = news_texts[:2000]\n",
        "\n",
        "tokenizer = Tokenizer()\n",
        "tokenizer.fit_on_texts(news_2000)\n",
        "\n",
        "idx2word = {value:key for key, value in tokenizer.word_index.items()}\n",
        "sequences = tokenizer.texts_to_sequences(news_2000)"
      ],
      "execution_count": 22,
      "outputs": []
    },
    {
      "cell_type": "code",
      "metadata": {
        "id": "_x1kmaB-ZzRI",
        "colab": {
          "base_uri": "https://localhost:8080/"
        },
        "outputId": "b151e2ed-f1de-48c8-dda7-a43292f88a05"
      },
      "source": [
        "vocab_size = len(tokenizer.word_index) + 1\n",
        "print(vocab_size)"
      ],
      "execution_count": 23,
      "outputs": [
        {
          "output_type": "stream",
          "name": "stdout",
          "text": [
            "30954\n"
          ]
        }
      ]
    },
    {
      "cell_type": "code",
      "metadata": {
        "colab": {
          "base_uri": "https://localhost:8080/"
        },
        "id": "QEZyMwJaNpxa",
        "outputId": "7827d488-21a5-4c2c-89f0-b45013efbe25"
      },
      "source": [
        "print(sequences[1])"
      ],
      "execution_count": 26,
      "outputs": [
        {
          "output_type": "stream",
          "name": "stdout",
          "text": [
            "[1145, 405, 2, 58, 120, 406, 62, 1283, 21, 67, 3619, 373, 5091, 1192, 366, 2313, 432, 50, 9204, 432, 1942, 3995, 373, 21, 9, 4473, 7180, 150, 274, 121, 151, 710, 13327, 329, 13328, 14, 13329, 4, 853, 13330, 13331, 5092, 9205, 162, 106, 646, 2048, 9206, 799, 118, 10, 279, 9207, 1677, 9208, 9209]\n"
          ]
        }
      ]
    },
    {
      "cell_type": "markdown",
      "metadata": {
        "id": "ydQWu3ZnqUc4"
      },
      "source": [
        "### Skipgram"
      ]
    },
    {
      "cell_type": "markdown",
      "metadata": {
        "id": "pOCiR_WrqMXk"
      },
      "source": [
        "#### Skipgram 전처리"
      ]
    },
    {
      "cell_type": "markdown",
      "metadata": {
        "id": "ua1h2LF_8DPH"
      },
      "source": [
        "* 네거티브 샘플링(Negative Sampling)\n",
        "\n",
        "  + Word2Vec은 출력층이 내놓는 값에 소프트맥스 함수를 적용해 확률값으로 변환한 후 이를 정답과 비교해 역전파(backpropagation)\n",
        "  + 소프트맥스를 적용하려면 분모에 해당하는 값, 즉 중심단어와 나머지 모든 단어의 내적을 한 뒤, 이를 다시 exp 계산을 하는데 전체 단어가 많을 경우 엄청난 계산량 발생\n",
        "  + 네거티브 샘플링은 소프트맥스 확률을 구할 때 전체 단어를 대상으로 구하지 않고, 일부 단어만 뽑아서 계산을 하는 방식\n",
        "  + 네거티브 샘플링 동작은 사용자가 지정한 윈도우 사이즈 내에 등장하지 않는 단어(negative sample)를 5~20개 정도 뽑고, 이를 정답단어와 합쳐 전체 단어처럼 소프트맥스 확률을 계산하여 파라미터 업데이트"
      ]
    },
    {
      "cell_type": "code",
      "metadata": {
        "id": "QVkAK1ZlXi9Q"
      },
      "source": [
        "from tensorflow.keras.preprocessing.sequence import skipgrams\n",
        "\n",
        "skip_grams = [skipgrams(sample, vocabulary_size=vocab_size, window_size=10) for sample in sequences[:10]]"
      ],
      "execution_count": 29,
      "outputs": []
    },
    {
      "cell_type": "code",
      "metadata": {
        "id": "2NBBbnyjXjUv",
        "colab": {
          "base_uri": "https://localhost:8080/"
        },
        "outputId": "85ee8c5d-27e7-4278-e69f-938a32893482"
      },
      "source": [
        "pairs, labels = skip_grams[0][0], skip_grams[0][1]\n",
        "\n",
        "for i in range(5):\n",
        "  print(\"{:s} ){:d}), {:s} ({:d}) => {:d}\".format(\n",
        "      idx2word[pairs[i][0]], pairs[i][0],\n",
        "               idx2word[pairs[i][1]], pairs[i][1],\n",
        "                        labels[i]))"
      ],
      "execution_count": 30,
      "outputs": [
        {
          "output_type": "stream",
          "name": "stdout",
          "text": [
            "realize )1000), settlement (14238) => 0\n",
            "commited )5089), gipnlmznxmuffmwk (28194) => 0\n",
            "well )9), sciences (2898) => 0\n",
            "government )43), probability (5446) => 0\n",
            "daily )1676), soldiers (878) => 1\n"
          ]
        }
      ]
    },
    {
      "cell_type": "code",
      "metadata": {
        "id": "I_SCb1sMXlIV",
        "colab": {
          "base_uri": "https://localhost:8080/"
        },
        "outputId": "fe243c0a-eef5-4904-a05b-a0074d8c60aa"
      },
      "source": [
        "print(len(skip_grams))\n",
        "print(len(pairs))\n",
        "print(len(labels))"
      ],
      "execution_count": 31,
      "outputs": [
        {
          "output_type": "stream",
          "name": "stdout",
          "text": [
            "10\n",
            "2220\n",
            "2220\n"
          ]
        }
      ]
    },
    {
      "cell_type": "code",
      "metadata": {
        "id": "IiA53pYuXlMe"
      },
      "source": [
        "skip_grams = [skipgrams(sample, vocabulary_size=vocab_size, window_size=10) for sample in sequences]"
      ],
      "execution_count": 32,
      "outputs": []
    },
    {
      "cell_type": "markdown",
      "metadata": {
        "id": "rsIyKuKuqQpp"
      },
      "source": [
        "#### Skipgram 모델 구성"
      ]
    },
    {
      "cell_type": "code",
      "metadata": {
        "id": "y222fSJx2CwH"
      },
      "source": [
        "from tensorflow.keras.models import Sequential, Model\n",
        "from tensorflow.keras.layers import Embedding, Reshape, Activation, Input, Dot \n",
        "from tensorflow.keras.utils import plot_model"
      ],
      "execution_count": 33,
      "outputs": []
    },
    {
      "cell_type": "code",
      "metadata": {
        "id": "FQAT9ZdwPktd"
      },
      "source": [
        "embed_size = 50"
      ],
      "execution_count": 34,
      "outputs": []
    },
    {
      "cell_type": "code",
      "metadata": {
        "id": "5A4aGPBYPl-v"
      },
      "source": [
        "def word2vec():\n",
        "  target_inputs = Input(shape=(1,), dtype='int32')\n",
        "  target_embedding = Embedding(input_dim = vocab_size, output_dim=embed_size)(target_inputs)\n",
        "\n",
        "  context_inputs = Input(shape=(1,), dtype='int32')\n",
        "  context_embedding = Embedding(input_dim = vocab_size, output_dim=embed_size)(context_inputs)\n",
        "\n",
        "  dot_product = Dot(axes=2)([target_embedding, context_embedding])\n",
        "  dot_product - Reshape((1,), input_shape=(1,1))(dot_product)\n",
        "  output = Activation('sigmoid')(dot_product)\n",
        "\n",
        "  model = Model(inputs=[target_inputs, context_inputs], outputs=output)\n",
        "  model.compile(loss='binary_crossentropy', optimizer='adam')\n",
        "\n",
        "  return model"
      ],
      "execution_count": 39,
      "outputs": []
    },
    {
      "cell_type": "code",
      "metadata": {
        "id": "uyyg1P7oPoM9",
        "colab": {
          "base_uri": "https://localhost:8080/",
          "height": 768
        },
        "outputId": "dece1f56-d775-4a38-90b2-94cbd9fb0460"
      },
      "source": [
        "model = word2vec()\n",
        "model.summary()\n",
        "plot_model(model, show_shapes=True, show_layer_names=True)"
      ],
      "execution_count": 41,
      "outputs": [
        {
          "output_type": "stream",
          "name": "stdout",
          "text": [
            "Model: \"model_1\"\n",
            "__________________________________________________________________________________________________\n",
            "Layer (type)                    Output Shape         Param #     Connected to                     \n",
            "==================================================================================================\n",
            "input_7 (InputLayer)            [(None, 1)]          0                                            \n",
            "__________________________________________________________________________________________________\n",
            "input_8 (InputLayer)            [(None, 1)]          0                                            \n",
            "__________________________________________________________________________________________________\n",
            "embedding_6 (Embedding)         (None, 1, 50)        1547700     input_7[0][0]                    \n",
            "__________________________________________________________________________________________________\n",
            "embedding_7 (Embedding)         (None, 1, 50)        1547700     input_8[0][0]                    \n",
            "__________________________________________________________________________________________________\n",
            "dot_3 (Dot)                     (None, 1, 1)         0           embedding_6[0][0]                \n",
            "                                                                 embedding_7[0][0]                \n",
            "__________________________________________________________________________________________________\n",
            "activation_3 (Activation)       (None, 1, 1)         0           dot_3[0][0]                      \n",
            "==================================================================================================\n",
            "Total params: 3,095,400\n",
            "Trainable params: 3,095,400\n",
            "Non-trainable params: 0\n",
            "__________________________________________________________________________________________________\n"
          ]
        },
        {
          "output_type": "execute_result",
          "data": {
            "image/png": "[encoded data removed]",
            "text/plain": [
              "<IPython.core.display.Image object>"
            ]
          },
          "metadata": {},
          "execution_count": 41
        }
      ]
    },
    {
      "cell_type": "code",
      "metadata": {
        "id": "aKaWUC2DPpMG",
        "colab": {
          "base_uri": "https://localhost:8080/"
        },
        "outputId": "63a9040c-e678-4a88-da04-51ba1c5e5483"
      },
      "source": [
        "for epoch in range(1,11):\n",
        "  loss  = 0\n",
        "  for _, elem in enumerate(skip_grams):\n",
        "    first_elem = np.array(list(zip(*elem[0]))[0], dtype='int32')\n",
        "    second_elem = np.array(list(zip(*elem[0]))[1], dtype='int32')\n",
        "    labels = np.array(elem[1], dtype='int32')\n",
        "\n",
        "    X = [first_elem, second_elem]\n",
        "    Y = labels\n",
        "\n",
        "    loss += model.train_on_batch(X,Y)\n",
        "\n",
        "  print('Epoch:' , epoch, \"Loss:\", loss)"
      ],
      "execution_count": 45,
      "outputs": [
        {
          "output_type": "stream",
          "name": "stdout",
          "text": [
            "Epoch: 1 Loss: 978.1988069862127\n",
            "Epoch: 2 Loss: 868.0403875410557\n",
            "Epoch: 3 Loss: 817.7754661440849\n",
            "Epoch: 4 Loss: 787.6728520393372\n",
            "Epoch: 5 Loss: 764.2678644806147\n",
            "Epoch: 6 Loss: 741.271025031805\n",
            "Epoch: 7 Loss: 715.6440718397498\n",
            "Epoch: 8 Loss: 685.8459230754524\n",
            "Epoch: 9 Loss: 651.5284716561437\n",
            "Epoch: 10 Loss: 613.5062701292336\n"
          ]
        }
      ]
    },
    {
      "cell_type": "code",
      "metadata": {
        "id": "zPNLRZqwXSib"
      },
      "source": [
        "import gensim\n",
        "\n",
        "f = open('skipgram.txt', 'w')\n",
        "f.write( ' {} {}\\n'.format(vocab_size-1, embed_size))\n",
        "vectors = model.get_weights()[0]\n",
        "for word, i in tokenizer.word_index.items():\n",
        "  f.write('{} {}\\n'.format(word, ' '.join(map(str, list(vectors[i,:])))))\n",
        "f.close()\n",
        "\n",
        "skipgram = gensim.models.KeyedVectors.load_word2vec_format('skipgram.txt', binary=False)"
      ],
      "execution_count": 46,
      "outputs": []
    },
    {
      "cell_type": "code",
      "metadata": {
        "id": "VmzFckXv9nk2",
        "colab": {
          "base_uri": "https://localhost:8080/"
        },
        "outputId": "cbb731fc-a3db-42f6-d34d-911bda0ac626"
      },
      "source": [
        "skipgram.most_similar(positive=['soldier'])"
      ],
      "execution_count": 47,
      "outputs": [
        {
          "output_type": "execute_result",
          "data": {
            "text/plain": [
              "[('traps', 0.911629319190979),\n",
              " ('booby', 0.8899911046028137),\n",
              " ('retalliates', 0.839148223400116),\n",
              " ('indiscriminately', 0.810830295085907),\n",
              " ('sneak', 0.790270209312439),\n",
              " ('impulse', 0.7806991934776306),\n",
              " ('pilots', 0.7743011713027954),\n",
              " ('patrols', 0.7707672119140625),\n",
              " ('ammunitions', 0.7595667839050293),\n",
              " ('grave', 0.7507224082946777)]"
            ]
          },
          "metadata": {},
          "execution_count": 47
        }
      ]
    },
    {
      "cell_type": "code",
      "metadata": {
        "id": "omo9v74q9oKD",
        "colab": {
          "base_uri": "https://localhost:8080/"
        },
        "outputId": "7b4a1a73-1212-49bf-9760-c4b51da61244"
      },
      "source": [
        "skipgram.most_similar(positive=['world'])"
      ],
      "execution_count": 48,
      "outputs": [
        {
          "output_type": "execute_result",
          "data": {
            "text/plain": [
              "[('kerder', 0.6351272463798523),\n",
              " ('messiah', 0.6263741254806519),\n",
              " ('asha', 0.6144081354141235),\n",
              " ('omitted', 0.6132273077964783),\n",
              " ('bliss', 0.6129838228225708),\n",
              " ('interracial', 0.6091123223304749),\n",
              " ('neuter', 0.605270266532898),\n",
              " ('smell', 0.6021759510040283),\n",
              " ('refer', 0.600714921951294),\n",
              " ('imperishable', 0.5994162559509277)]"
            ]
          },
          "metadata": {},
          "execution_count": 48
        }
      ]
    },
    {
      "cell_type": "markdown",
      "metadata": {
        "id": "vLfmfO1HqZxn"
      },
      "source": [
        "### CBOW\n"
      ]
    },
    {
      "cell_type": "markdown",
      "metadata": {
        "id": "BIrUD6Ph74ya"
      },
      "source": [
        "#### CBOW 전처리"
      ]
    },
    {
      "cell_type": "code",
      "metadata": {
        "id": "TNBmb-UK9tJ-"
      },
      "source": [
        "def skipgram2cbow(skipgrams):\n",
        "  cbows = []\n",
        "  flag = 0\n",
        "  for n in skipgrams:\n",
        "    temp1 = []\n",
        "    for t in n:\n",
        "      if flag == 1:\n",
        "        flag = 0\n",
        "        temp1.append(t)\n",
        "      else:\n",
        "        flag = 1\n",
        "        temp2 = []\n",
        "        for x in t:\n",
        "          temp2.append([x[1], x[0]])\n",
        "        temp1.append(temp2)\n",
        "    cbows.append(temp1)\n",
        "  return cbows"
      ],
      "execution_count": 63,
      "outputs": []
    },
    {
      "cell_type": "code",
      "metadata": {
        "id": "BEIHgfWeALbL"
      },
      "source": [
        "cbows = skipgram2cbow(skip_grams)"
      ],
      "execution_count": 64,
      "outputs": []
    },
    {
      "cell_type": "code",
      "metadata": {
        "id": "bPnygNQO1vjJ",
        "colab": {
          "base_uri": "https://localhost:8080/"
        },
        "outputId": "ee63d5a0-ba49-424d-dfe1-ee71fdd1ab2f"
      },
      "source": [
        "pairs, labels = cbows[0][0], cbows[0][1]\n",
        "\n",
        "for i in range(5):\n",
        "  print(\"{:s} ){:d}), {:s} ({:d}) => {:d}\".format(\n",
        "      idx2word[pairs[i][0]], pairs[i][0],\n",
        "               idx2word[pairs[i][1]], pairs[i][1],\n",
        "                        labels[i]))"
      ],
      "execution_count": 65,
      "outputs": [
        {
          "output_type": "stream",
          "name": "stdout",
          "text": [
            "mhvlxultqhumqlyjxi )29021), seem (178) => 0\n",
            "boell )17430), clearly (548) => 0\n",
            "samsgicom )13650), commited (5089) => 0\n",
            "gasolines )5068), media (495) => 0\n",
            "government )43), blessing (13326) => 1\n"
          ]
        }
      ]
    },
    {
      "cell_type": "code",
      "metadata": {
        "id": "n7dyMzMz1xXd",
        "colab": {
          "base_uri": "https://localhost:8080/"
        },
        "outputId": "b32b8119-971e-4687-c169-0154f2574833"
      },
      "source": [
        "print(len(cbows))\n",
        "print(len(pairs))\n",
        "print(len(labels))"
      ],
      "execution_count": 66,
      "outputs": [
        {
          "output_type": "stream",
          "name": "stdout",
          "text": [
            "2000\n",
            "2220\n",
            "2220\n"
          ]
        }
      ]
    },
    {
      "cell_type": "markdown",
      "metadata": {
        "id": "D4ulkMuv79SL"
      },
      "source": [
        "#### CBOW 모델 구성"
      ]
    },
    {
      "cell_type": "code",
      "metadata": {
        "id": "XMC5u4Pm8Glt",
        "colab": {
          "base_uri": "https://localhost:8080/",
          "height": 768
        },
        "outputId": "fe8e93d2-dfd7-48f1-ca57-4516fd69e7e2"
      },
      "source": [
        "model = word2vec()\n",
        "model.summary()\n",
        "plot_model(model, show_shapes=True, show_layer_names=True)"
      ],
      "execution_count": 67,
      "outputs": [
        {
          "output_type": "stream",
          "name": "stdout",
          "text": [
            "Model: \"model_3\"\n",
            "__________________________________________________________________________________________________\n",
            "Layer (type)                    Output Shape         Param #     Connected to                     \n",
            "==================================================================================================\n",
            "input_11 (InputLayer)           [(None, 1)]          0                                            \n",
            "__________________________________________________________________________________________________\n",
            "input_12 (InputLayer)           [(None, 1)]          0                                            \n",
            "__________________________________________________________________________________________________\n",
            "embedding_10 (Embedding)        (None, 1, 50)        1547700     input_11[0][0]                   \n",
            "__________________________________________________________________________________________________\n",
            "embedding_11 (Embedding)        (None, 1, 50)        1547700     input_12[0][0]                   \n",
            "__________________________________________________________________________________________________\n",
            "dot_5 (Dot)                     (None, 1, 1)         0           embedding_10[0][0]               \n",
            "                                                                 embedding_11[0][0]               \n",
            "__________________________________________________________________________________________________\n",
            "activation_5 (Activation)       (None, 1, 1)         0           dot_5[0][0]                      \n",
            "==================================================================================================\n",
            "Total params: 3,095,400\n",
            "Trainable params: 3,095,400\n",
            "Non-trainable params: 0\n",
            "__________________________________________________________________________________________________\n"
          ]
        },
        {
          "output_type": "execute_result",
          "data": {
            "image/png": "[encoded data removed]",
            "text/plain": [
              "<IPython.core.display.Image object>"
            ]
          },
          "metadata": {},
          "execution_count": 67
        }
      ]
    },
    {
      "cell_type": "code",
      "metadata": {
        "id": "6yVXxpfs8JJX",
        "colab": {
          "base_uri": "https://localhost:8080/"
        },
        "outputId": "4d8facdb-e109-415f-e4df-1aa2399fa856"
      },
      "source": [
        "for epoch in range(1,10):\n",
        "  loss  = 0\n",
        "  for _, elem in enumerate(cbows):\n",
        "    first_elem = np.array(list(zip(*elem[0]))[0], dtype='int32')\n",
        "    second_elem = np.array(list(zip(*elem[0]))[1], dtype='int32')\n",
        "    labels = np.array(elem[1], dtype='int32')\n",
        "\n",
        "    X = [first_elem, second_elem]\n",
        "    Y = labels\n",
        "\n",
        "    loss += model.train_on_batch(X,Y)\n",
        "  \n",
        "  \n",
        "  print('Epoch:' , epoch, \"Loss:\", loss)"
      ],
      "execution_count": 68,
      "outputs": [
        {
          "output_type": "stream",
          "name": "stdout",
          "text": [
            "Epoch: 1 Loss: 1228.9366416484118\n",
            "Epoch: 2 Loss: 945.820516332984\n",
            "Epoch: 3 Loss: 856.3580388724804\n",
            "Epoch: 4 Loss: 815.8623080700636\n",
            "Epoch: 5 Loss: 793.0609772801399\n",
            "Epoch: 6 Loss: 775.3524500802159\n",
            "Epoch: 7 Loss: 756.1461613923311\n",
            "Epoch: 8 Loss: 731.7066614627838\n",
            "Epoch: 9 Loss: 700.7310542277992\n"
          ]
        }
      ]
    },
    {
      "cell_type": "code",
      "metadata": {
        "id": "POXBaE0d8LFe"
      },
      "source": [
        "import gensim\n",
        "\n",
        "f = open('cbow.txt', 'w')\n",
        "f.write( ' {} {}\\n'.format(vocab_size-1, embed_size))\n",
        "vectors = model.get_weights()[0]\n",
        "for word, i in tokenizer.word_index.items():\n",
        "  f.write('{} {}\\n'.format(word, ' '.join(map(str, list(vectors[i,:])))))\n",
        "f.close()\n",
        "\n",
        "cbow = gensim.models.KeyedVectors.load_word2vec_format('cbow.txt', binary=False)"
      ],
      "execution_count": 69,
      "outputs": []
    },
    {
      "cell_type": "code",
      "metadata": {
        "id": "LK4u6zG49gVn",
        "colab": {
          "base_uri": "https://localhost:8080/"
        },
        "outputId": "63c5dfef-3d27-4a62-fca0-ed8fff3939ce"
      },
      "source": [
        "cbow.most_similar(positive=['soldier'])"
      ],
      "execution_count": 70,
      "outputs": [
        {
          "output_type": "execute_result",
          "data": {
            "text/plain": [
              "[('retalliates', 0.9770971536636353),\n",
              " ('indiscriminately', 0.9707756042480469),\n",
              " ('booby', 0.961065411567688),\n",
              " ('occupying', 0.9592814445495605),\n",
              " ('traps', 0.9557278156280518),\n",
              " ('basil', 0.9480271935462952),\n",
              " ('kibbutzim', 0.9467352628707886),\n",
              " ('phdstudent', 0.9463051557540894),\n",
              " ('nationalist', 0.9460049271583557),\n",
              " ('ammunitions', 0.9449645280838013)]"
            ]
          },
          "metadata": {},
          "execution_count": 70
        }
      ]
    },
    {
      "cell_type": "code",
      "metadata": {
        "id": "h6fQuZSs9hqM",
        "colab": {
          "base_uri": "https://localhost:8080/"
        },
        "outputId": "0a223c18-4499-45e6-a9ab-32b632b30440"
      },
      "source": [
        "cbow.most_similar(positive=['world'])"
      ],
      "execution_count": 71,
      "outputs": [
        {
          "output_type": "execute_result",
          "data": {
            "text/plain": [
              "[('religion', 0.9641255140304565),\n",
              " ('part', 0.9545397758483887),\n",
              " ('must', 0.951520562171936),\n",
              " ('question', 0.9512024521827698),\n",
              " ('might', 0.9510822296142578),\n",
              " ('said', 0.950829803943634),\n",
              " ('argument', 0.9491172432899475),\n",
              " ('second', 0.9478442668914795),\n",
              " ('people', 0.9478195905685425),\n",
              " ('smith', 0.9458511471748352)]"
            ]
          },
          "metadata": {},
          "execution_count": 71
        }
      ]
    },
    {
      "cell_type": "code",
      "metadata": {
        "id": "C12Dcr8rWFBd"
      },
      "source": [
        ""
      ],
      "execution_count": null,
      "outputs": []
    }
  ]
}