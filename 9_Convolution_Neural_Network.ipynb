{
  "nbformat": 4,
  "nbformat_minor": 0,
  "metadata": {
    "colab": {
      "name": "9_Convolution_Neural_Network.ipynb",
      "provenance": [],
      "collapsed_sections": []
    },
    "kernelspec": {
      "name": "python3",
      "display_name": "Python 3"
    },
    "accelerator": "GPU"
  },
  "cells": [
    {
      "cell_type": "markdown",
      "metadata": {
        "id": "86l7I5SQ_u9J"
      },
      "source": [
        "# 합성곱 신경망(Convolution Neural Network)\n",
        "\n",
        "- 이미지 인식, 음성 인식 등에 자주 사용되는데,  \n",
        "  특히, 이미지 인식 분야에서 거의 모든 딥러닝 기술에 사용\n",
        "\n",
        "<br>\n",
        "\n",
        "## 컨볼루션 신경망의 등장\n",
        "- 1989년 얀 르쿤(Yann LeCun) 교수의 논문에서 발표\n",
        "\n",
        "  - 필기체 인식에서 의미가 있었지만 범용화하는데에는 무리\n",
        "\n",
        "- 1998년, \"Gradient-Based Learning Applied to Document Recognition\"이라는 논문에서 LeNet-5 제시\n",
        "\n",
        "- 합성곱 층(convolution layer), 풀링 층(pooling layer) 소개\n",
        "  <br>\n",
        "\n",
        "  <img src=\"https://miro.medium.com/max/4308/1*1TI1aGBZ4dybR6__DI9dzA.png\">\n",
        "  \n",
        "  <center>[LeNet-5 구조]</center>\n",
        "\n",
        "  <sub>출처: https://medium.com/@pechyonkin/key-deep-learning-architectures-lenet-5-6fc3c59e6f4</sub>"
      ]
    },
    {
      "cell_type": "markdown",
      "metadata": {
        "id": "Y46evOQHNukF"
      },
      "source": [
        "## 컨볼루션 신경망 구조 예시\n",
        "\n",
        "<img src=\"https://www.oreilly.com/library/view/neural-network-projects/9781789138900/assets/c38754ca-f2ea-425a-b7a6-1fe0f2f5074e.png\" width=\"600\">\n",
        "\n",
        "<sub>출처: https://www.oreilly.com/library/view/neural-network-projects/9781789138900/8e87ad66-6de3-4275-81a4-62b54436bf16.xhtml</sub>\n",
        "\n"
      ]
    },
    {
      "cell_type": "markdown",
      "metadata": {
        "id": "Wtb8UWyTNxp_"
      },
      "source": [
        "## 합성곱 연산\n",
        "- 필터(filter) 연산\n",
        "  - 입력 데이터에 필터를 통한 어떠한 연산을 진행\n",
        "  \n",
        "  - **필터에 대응하는 원소끼리 곱하고, 그 합을 구함**\n",
        "\n",
        "  - 연산이 완료된 결과 데이터를 **특징 맵(feature map)**이라 부름\n",
        "\n",
        "- 필터(filter)\n",
        "  - 커널(kernel)이라고도 칭함\n",
        "  \n",
        "  - 흔히 사진 어플에서 사용하는 '이미지 필터'와 비슷한 개념\n",
        "\n",
        "  - 필터의 사이즈는 \"거의 항상 홀수\"\n",
        "    - 짝수이면 패딩이 비대칭이 되어버림\n",
        "  \n",
        "    - 왼쪽, 오른쪽을 다르게 주어야함\n",
        "  \n",
        "    - 중심위치가 존재, 즉 구별된 하나의 픽셀(중심 픽셀)이 존재\n",
        "\n",
        "  - 필터의 학습 파라미터 개수는 입력 데이터의 크기와 상관없이 일정  \n",
        "    따라서, 과적합을 방지할 수 있음\n",
        "\n",
        "  <br>\n",
        "  <img src=\"http://deeplearning.net/software/theano_versions/dev/_images/numerical_no_padding_no_strides.gif\">\n",
        "\n",
        "  <sub>출처: http://deeplearning.net/software/theano_versions/dev/tutorial/conv_arithmetic.html</sub>\n",
        "\n",
        "\n",
        "- 연산 시각화\n",
        "  <img src=\"https://www.researchgate.net/profile/Ihab_S_Mohamed/publication/324165524/figure/fig3/AS:611103423860736@1522709818959/An-example-of-convolution-operation-in-2D-2.png\" width=\"500\">\n",
        "\n",
        "  <sub>출처: https://www.researchgate.net/figure/An-example-of-convolution-operation-in-2D-2_fig3_324165524</sub>\n",
        "\n",
        "\n",
        "- 일반적으로, 합성곱 연산을 한 후의 데이터 사이즈는  \n",
        "  ### $\\quad (n-f+1) \\times (n-f+1)$\n",
        "    $n$: 입력 데이터의 크기  \n",
        "    $f$: 필터(커널)의 크기\n",
        "\n",
        "\n",
        "  <img src=\"https://miro.medium.com/max/1400/1*Fw-ehcNBR9byHtho-Rxbtw.gif\" width=\"400\">\n",
        "\n",
        "  <sub>출처: https://towardsdatascience.com/intuitively-understanding-convolutions-for-deep-learning-1f6f42faee1</sub>\n",
        "  \n",
        "  위 예에서 입력 데이터 크기($n$)는 5, 필터의 크기($k$)는 3이므로  \n",
        "  출력 데이터의 크기는 $(5 - 3 + 1) = 3$\n"
      ]
    },
    {
      "cell_type": "markdown",
      "metadata": {
        "id": "5-ekDsJwN2Y-"
      },
      "source": [
        "## 패딩(padding)과 스트라이드(stride)\n",
        "- 필터(커널) 사이즈과 함께 **입력 이미지와 출력 이미지의 사이즈를 결정**하기 위해 사용\n",
        "\n",
        "- 사용자가 결정할 수 있음\n"
      ]
    },
    {
      "cell_type": "markdown",
      "metadata": {
        "id": "alV1bgcjN4Kc"
      },
      "source": [
        "\n",
        "### 패딩\n",
        "- 입력 데이터의 주변을 특정 값으로 채우는 기법\n",
        "  - 주로 0으로 많이 채움\n",
        "\n",
        "  <img src=\"http://deeplearning.net/software/theano_versions/dev/_images/arbitrary_padding_no_strides.gif\" width=\"300\">\n",
        "\n",
        "- 출력 데이터의 크기\n",
        "  ### $\\quad (n+2p-f+1) \\times (n+2p-f+1)$\n",
        "\n",
        "  위 그림에서, 입력 데이터의 크기($n$)는 5, 필터의 크기($f$)는 4, 패딩값($p$)은 2이므로    \n",
        "  출력 데이터의 크기는 ($5 + 2\\times 2 - 4 + 1) = 6$\n",
        "\n",
        "### 'valid' 와 'same'\n",
        "- 'valid'\n",
        "  - 패딩을 주지 않음\n",
        "  - padding=0 (0으로 채워진 테두리가 아니라 패딩을 주지 않는다는 의미)\n",
        "\n",
        "- 'same'\n",
        "  - 패딩을 주어 입력 이미지의 크기와 연산 후의 이미지 크기를 같게함\n",
        "\n",
        "  - 만약, 필터(커널)의 크기가 $k$ 이면,  \n",
        "    패딩의 크기는 $p = \\frac{k-1}{2}$ (단, <u>stride=1)</u>"
      ]
    },
    {
      "cell_type": "markdown",
      "metadata": {
        "id": "zlZ7zG6ON85J"
      },
      "source": [
        "\n",
        "\n",
        "### 스트라이드\n",
        "- 필터를 적용하는 간격을 의미\n",
        "\n",
        "- 아래는 그림의 간격 2\n",
        "\n",
        "  <img src=\"http://deeplearning.net/software/theano_versions/dev/_images/no_padding_strides.gif\">\n"
      ]
    },
    {
      "cell_type": "markdown",
      "metadata": {
        "id": "LPcsND-0OCNm"
      },
      "source": [
        "## 출력 데이터의 크기\n",
        "\n",
        "## $\\qquad OH = \\frac{H + 2P - FH}{S} + 1 $ \n",
        "## $\\qquad OW = \\frac{W + 2P - FW}{S} + 1 $ \n",
        "\n",
        "- 입력 크기 : $(H, W)$\n",
        "\n",
        "- 필터 크기 : $(FH, FW)$\n",
        "\n",
        "- 출력 크기 : $(OH, OW)$\n",
        "\n",
        "- 패딩, 스트라이드 : $P, S$\n",
        "\n",
        "- (주의) \n",
        "  - 위 식의 값에서 $\\frac{H + 2P - FH}{S}$ 또는 $\\frac{W + 2P - FW}{S}$가 정수로 나누어 떨어지는 값이어야 함\n",
        "  - 만약, 정수로 나누어 떨어지지 않으면  \n",
        "    패딩, 스트라이드값을 조정하여 정수로 나누어 떨어지게 해야함\n"
      ]
    },
    {
      "cell_type": "markdown",
      "metadata": {
        "id": "1x4UoMbF8jJ9"
      },
      "source": [
        "## 풀링(Pooling)\n",
        "\n",
        "- 필터(커널) 사이즈 내에서 특정 값을 추출하는 과정"
      ]
    },
    {
      "cell_type": "markdown",
      "metadata": {
        "id": "lDiaO3XF8oC_"
      },
      "source": [
        "### 맥스 풀링(Max Pooling)\n",
        "- 가장 많이 사용되는 방법\n",
        "\n",
        "- 출력 데이터의 사이즈 계산은 컨볼루션 연산과 동일\n",
        "## $\\quad OH = \\frac{H + 2P - FH}{S} + 1 $ \n",
        "## $\\quad OW = \\frac{W + 2P - FW}{S} + 1 $ \n",
        "\n",
        "- 일반적으로 stride=2, kernel_size=2 를 통해  \n",
        "  **특징맵의 크기를 <u>절반으로 줄이는 역할</u>**\n",
        "\n",
        "- 모델이 물체의 주요한 특징을 학습할 수 있도록 해주며,  \n",
        "  컨볼루션 신경망이 이동 불변성 특성을 가지게 해줌\n",
        "  - 예를 들어, 아래의 그림에서 초록색 사각형 안에 있는  \n",
        "    2와 8의 위치를 바꾼다해도 맥스 풀링 연산은 8을 추출\n",
        "\n",
        "- 모델의 파라미터 개수를 줄여주고, 연산 속도를 빠르게 해줌\n",
        "\n",
        "  <br>\n",
        "\n",
        "  <img src=\"https://cs231n.github.io/assets/cnn/maxpool.jpeg\" width=\"600\">\n",
        "\n",
        "  <sub>출처: https://cs231n.github.io/convolutional-networks/</sub>"
      ]
    },
    {
      "cell_type": "markdown",
      "metadata": {
        "id": "CrvtX4LrkhPI"
      },
      "source": [
        "## Conv1D \n",
        "\n",
        "- 텍스트 분류나 시계열 예측 같은 간단한 문제, 오디오 생성, 기계 번역 등의 문제에서 좋은 성능\n",
        "\n",
        "- 타임스텝의 순서에 민감하지 X\n",
        "\n",
        "\n",
        "- 2D Convolution\n",
        "  - 지역적 특징을 인식\n",
        "\n",
        "  <img src=\"https://missinglink.ai/wp-content/uploads/2019/03/2D-convolutional-example_2x-700x584.png\" width=\"500\">\n",
        "\n",
        "- 1D Convolution\n",
        "  - 문맥을 인식\n",
        "\n",
        "  <img src=\"https://missinglink.ai/wp-content/uploads/2019/03/1D-convolutional-example_2x.png\" width=\"500\">\n",
        "\n",
        "  <sub>출처: https://missinglink.ai/guides/keras/keras-conv1d-working-1d-convolutional-neural-networks-keras/</sub>"
      ]
    },
    {
      "cell_type": "markdown",
      "metadata": {
        "id": "rGh9JuYaCN49"
      },
      "source": [
        "# 자연어 처리는 Con1D를 사용하게 된다. 공간적인 요소는 2D사용"
      ]
    },
    {
      "cell_type": "markdown",
      "metadata": {
        "id": "aJNAI-aYnDuc"
      },
      "source": [
        "### Conv1D Layer\n",
        "- 입력: `(batch_size, timesteps, channels)`\n",
        "\n",
        "- 출력: `(batch_size, timesteps, filters)`\n",
        "\n",
        "- 필터의 사이즈가 커져도 모델이 급격히 증가하지 않기 때문에 다양한 크기를 사용할 수 있음\n",
        "- 데이터의 품질이 좋으면 굳이 크기를 달리하여 여러 개를 사용하지 않아도 될 수도 있음"
      ]
    },
    {
      "cell_type": "markdown",
      "metadata": {
        "id": "ADJZHPLJqTZa"
      },
      "source": [
        "### MaxPooling1D Layer\n",
        "- 다운 샘플링 효과\n",
        "\n",
        "- 단지 1차원형태로 바뀐 것 뿐"
      ]
    },
    {
      "cell_type": "markdown",
      "metadata": {
        "id": "wirZzwYJrNll"
      },
      "source": [
        "### GlobalMaxPooling\n",
        "- 배치차원을 제외하고 2차원 형태를 1차원 형태로 바꾸어주는 레이어\n",
        "\n",
        "- Flatten layer로 대신 사용가능"
      ]
    },
    {
      "cell_type": "markdown",
      "metadata": {
        "id": "YQY_1IL9nQs2"
      },
      "source": [
        "## IMDB 데이터"
      ]
    },
    {
      "cell_type": "markdown",
      "metadata": {
        "id": "pl4Eu32qnUES"
      },
      "source": [
        "### 데이터 로드 및 전처리"
      ]
    },
    {
      "cell_type": "code",
      "metadata": {
        "id": "WcG-Hiltklbe"
      },
      "source": [
        "from tensorflow.keras.datasets import imdb\n",
        "from tensorflow.keras.preprocessing.sequence import pad_sequences\n",
        "from tensorflow.keras.models import Sequential\n",
        "from tensorflow.keras.optimizers import RMSprop\n",
        "from tensorflow.keras.layers import Dense, Embedding, Conv1D, MaxPooling1D, GlobalMaxPooling1D"
      ],
      "execution_count": 1,
      "outputs": []
    },
    {
      "cell_type": "code",
      "metadata": {
        "id": "GGYaNT8hnec5",
        "colab": {
          "base_uri": "https://localhost:8080/"
        },
        "outputId": "135ba55d-5e5e-4b1f-b8ac-68500179c194"
      },
      "source": [
        "num_words = 10000\n",
        "max_len = 500\n",
        "batch_size = 32\n",
        "\n",
        "(input_train, y_train), (input_test, y_test) = imdb.load_data(num_words=num_words)\n",
        "\n",
        "print(len(input_train))\n",
        "print(len(input_test))\n"
      ],
      "execution_count": 37,
      "outputs": [
        {
          "output_type": "stream",
          "name": "stdout",
          "text": [
            "25000\n",
            "25000\n"
          ]
        }
      ]
    },
    {
      "cell_type": "code",
      "metadata": {
        "id": "nQBzp3ownpEK",
        "colab": {
          "base_uri": "https://localhost:8080/"
        },
        "outputId": "39755a66-6db1-4dcf-9b2a-5827964f6d70"
      },
      "source": [
        "pad_x_train = pad_sequences(input_train, maxlen=max_len)\n",
        "pad_x_test = pad_sequences(input_test, maxlen=max_len)\n",
        "\n",
        "print(pad_x_train.shape)\n",
        "print(pad_x_test.shape)"
      ],
      "execution_count": 38,
      "outputs": [
        {
          "output_type": "stream",
          "name": "stdout",
          "text": [
            "(25000, 500)\n",
            "(25000, 500)\n"
          ]
        }
      ]
    },
    {
      "cell_type": "markdown",
      "metadata": {
        "id": "j3E0hYiHoBO0"
      },
      "source": [
        "### 모델 구성"
      ]
    },
    {
      "cell_type": "code",
      "metadata": {
        "id": "PvKPr7N6nuHr"
      },
      "source": [
        "def build_model():\n",
        "  model = Sequential()\n",
        "\n",
        "  model.add(Embedding(input_dim=num_words, output_dim=32, input_length=max_len))\n",
        "  model.add(Conv1D(32, 7, activation='relu'))\n",
        "  model.add(MaxPooling1D(7))\n",
        "  model.add(Conv1D(32, 5, activation='relu'))\n",
        "  model.add(MaxPooling1D(5))\n",
        "  model.add(GlobalMaxPooling1D())\n",
        "  model.add(Dense(1, activation='sigmoid'))\n",
        "\n",
        "  model.compile(optimizer=RMSprop(learning_rate=1e-4),\n",
        "                loss='binary_crossentropy',\n",
        "                metrics=['accuracy'])\n",
        "  \n",
        "  return model"
      ],
      "execution_count": 39,
      "outputs": []
    },
    {
      "cell_type": "code",
      "metadata": {
        "id": "wwWZ47NHolB6",
        "colab": {
          "base_uri": "https://localhost:8080/"
        },
        "outputId": "8770f59a-a0a9-4eaf-8641-0faf83cb7067"
      },
      "source": [
        "model = build_model()\n",
        "model.summary()"
      ],
      "execution_count": 40,
      "outputs": [
        {
          "output_type": "stream",
          "name": "stdout",
          "text": [
            "Model: \"sequential_5\"\n",
            "_________________________________________________________________\n",
            "Layer (type)                 Output Shape              Param #   \n",
            "=================================================================\n",
            "embedding_5 (Embedding)      (None, 500, 32)           320000    \n",
            "_________________________________________________________________\n",
            "conv1d_10 (Conv1D)           (None, 494, 32)           7200      \n",
            "_________________________________________________________________\n",
            "max_pooling1d_10 (MaxPooling (None, 70, 32)            0         \n",
            "_________________________________________________________________\n",
            "conv1d_11 (Conv1D)           (None, 66, 32)            5152      \n",
            "_________________________________________________________________\n",
            "max_pooling1d_11 (MaxPooling (None, 13, 32)            0         \n",
            "_________________________________________________________________\n",
            "global_max_pooling1d_2 (Glob (None, 32)                0         \n",
            "_________________________________________________________________\n",
            "dense_5 (Dense)              (None, 1)                 33        \n",
            "=================================================================\n",
            "Total params: 332,385\n",
            "Trainable params: 332,385\n",
            "Non-trainable params: 0\n",
            "_________________________________________________________________\n"
          ]
        }
      ]
    },
    {
      "cell_type": "markdown",
      "metadata": {
        "id": "0qUbPGdmpHpQ"
      },
      "source": [
        "### 모델 학습"
      ]
    },
    {
      "cell_type": "code",
      "metadata": {
        "id": "xcCgjLHvonWB",
        "colab": {
          "base_uri": "https://localhost:8080/"
        },
        "outputId": "b2499db4-5f28-4c26-cd0d-cdc49a7a6aa0"
      },
      "source": [
        "history = model.fit(pad_x_train, y_train,\n",
        "                    batch_size=128, epochs=30,\n",
        "                    validation_split=0.2)"
      ],
      "execution_count": 41,
      "outputs": [
        {
          "output_type": "stream",
          "name": "stdout",
          "text": [
            "Epoch 1/30\n",
            "157/157 [==============================] - 3s 16ms/step - loss: 0.6927 - accuracy: 0.5134 - val_loss: 0.6925 - val_accuracy: 0.5126\n",
            "Epoch 2/30\n",
            "157/157 [==============================] - 2s 15ms/step - loss: 0.6899 - accuracy: 0.6187 - val_loss: 0.6905 - val_accuracy: 0.6018\n",
            "Epoch 3/30\n",
            "157/157 [==============================] - 2s 13ms/step - loss: 0.6860 - accuracy: 0.6844 - val_loss: 0.6862 - val_accuracy: 0.6610\n",
            "Epoch 4/30\n",
            "157/157 [==============================] - 2s 15ms/step - loss: 0.6780 - accuracy: 0.7246 - val_loss: 0.6750 - val_accuracy: 0.7072\n",
            "Epoch 5/30\n",
            "157/157 [==============================] - 2s 15ms/step - loss: 0.6589 - accuracy: 0.7565 - val_loss: 0.6463 - val_accuracy: 0.7528\n",
            "Epoch 6/30\n",
            "157/157 [==============================] - 2s 14ms/step - loss: 0.6166 - accuracy: 0.7806 - val_loss: 0.5921 - val_accuracy: 0.7756\n",
            "Epoch 7/30\n",
            "157/157 [==============================] - 2s 15ms/step - loss: 0.5464 - accuracy: 0.8065 - val_loss: 0.5152 - val_accuracy: 0.8098\n",
            "Epoch 8/30\n",
            "157/157 [==============================] - 2s 14ms/step - loss: 0.4630 - accuracy: 0.8339 - val_loss: 0.4440 - val_accuracy: 0.8262\n",
            "Epoch 9/30\n",
            "157/157 [==============================] - 2s 14ms/step - loss: 0.3941 - accuracy: 0.8508 - val_loss: 0.3958 - val_accuracy: 0.8382\n",
            "Epoch 10/30\n",
            "157/157 [==============================] - 2s 14ms/step - loss: 0.3459 - accuracy: 0.8651 - val_loss: 0.3680 - val_accuracy: 0.8496\n",
            "Epoch 11/30\n",
            "157/157 [==============================] - 2s 14ms/step - loss: 0.3137 - accuracy: 0.8761 - val_loss: 0.3530 - val_accuracy: 0.8510\n",
            "Epoch 12/30\n",
            "157/157 [==============================] - 2s 13ms/step - loss: 0.2901 - accuracy: 0.8853 - val_loss: 0.3432 - val_accuracy: 0.8558\n",
            "Epoch 13/30\n",
            "157/157 [==============================] - 2s 14ms/step - loss: 0.2711 - accuracy: 0.8945 - val_loss: 0.3365 - val_accuracy: 0.8584\n",
            "Epoch 14/30\n",
            "157/157 [==============================] - 2s 14ms/step - loss: 0.2549 - accuracy: 0.9016 - val_loss: 0.3326 - val_accuracy: 0.8614\n",
            "Epoch 15/30\n",
            "157/157 [==============================] - 2s 14ms/step - loss: 0.2411 - accuracy: 0.9079 - val_loss: 0.3302 - val_accuracy: 0.8626\n",
            "Epoch 16/30\n",
            "157/157 [==============================] - 2s 13ms/step - loss: 0.2288 - accuracy: 0.9146 - val_loss: 0.3290 - val_accuracy: 0.8616\n",
            "Epoch 17/30\n",
            "157/157 [==============================] - 2s 15ms/step - loss: 0.2175 - accuracy: 0.9186 - val_loss: 0.3294 - val_accuracy: 0.8658\n",
            "Epoch 18/30\n",
            "157/157 [==============================] - 2s 14ms/step - loss: 0.2075 - accuracy: 0.9230 - val_loss: 0.3290 - val_accuracy: 0.8660\n",
            "Epoch 19/30\n",
            "157/157 [==============================] - 2s 14ms/step - loss: 0.1981 - accuracy: 0.9269 - val_loss: 0.3313 - val_accuracy: 0.8658\n",
            "Epoch 20/30\n",
            "157/157 [==============================] - 2s 15ms/step - loss: 0.1897 - accuracy: 0.9308 - val_loss: 0.3330 - val_accuracy: 0.8674\n",
            "Epoch 21/30\n",
            "157/157 [==============================] - 2s 14ms/step - loss: 0.1818 - accuracy: 0.9340 - val_loss: 0.3354 - val_accuracy: 0.8678\n",
            "Epoch 22/30\n",
            "157/157 [==============================] - 2s 14ms/step - loss: 0.1744 - accuracy: 0.9380 - val_loss: 0.3373 - val_accuracy: 0.8670\n",
            "Epoch 23/30\n",
            "157/157 [==============================] - 2s 14ms/step - loss: 0.1673 - accuracy: 0.9404 - val_loss: 0.3404 - val_accuracy: 0.8652\n",
            "Epoch 24/30\n",
            "157/157 [==============================] - 2s 15ms/step - loss: 0.1610 - accuracy: 0.9446 - val_loss: 0.3431 - val_accuracy: 0.8646\n",
            "Epoch 25/30\n",
            "157/157 [==============================] - 2s 13ms/step - loss: 0.1549 - accuracy: 0.9464 - val_loss: 0.3476 - val_accuracy: 0.8652\n",
            "Epoch 26/30\n",
            "157/157 [==============================] - 2s 14ms/step - loss: 0.1486 - accuracy: 0.9492 - val_loss: 0.3531 - val_accuracy: 0.8610\n",
            "Epoch 27/30\n",
            "157/157 [==============================] - 2s 14ms/step - loss: 0.1436 - accuracy: 0.9520 - val_loss: 0.3555 - val_accuracy: 0.8610\n",
            "Epoch 28/30\n",
            "157/157 [==============================] - 2s 14ms/step - loss: 0.1381 - accuracy: 0.9539 - val_loss: 0.3603 - val_accuracy: 0.8598\n",
            "Epoch 29/30\n",
            "157/157 [==============================] - 2s 13ms/step - loss: 0.1332 - accuracy: 0.9563 - val_loss: 0.3718 - val_accuracy: 0.8622\n",
            "Epoch 30/30\n",
            "157/157 [==============================] - 2s 14ms/step - loss: 0.1284 - accuracy: 0.9587 - val_loss: 0.3677 - val_accuracy: 0.8622\n"
          ]
        }
      ]
    },
    {
      "cell_type": "markdown",
      "metadata": {
        "id": "n2yEkawIph4C"
      },
      "source": [
        "### 시각화"
      ]
    },
    {
      "cell_type": "code",
      "metadata": {
        "id": "BfKC0UOkpPmP"
      },
      "source": [
        "import matplotlib.pyplot as plt\n",
        "plt.style.use('seaborn-white')"
      ],
      "execution_count": 42,
      "outputs": []
    },
    {
      "cell_type": "code",
      "metadata": {
        "colab": {
          "base_uri": "https://localhost:8080/",
          "height": 507
        },
        "id": "zVga7NoCEubj",
        "outputId": "473cbd8d-d5c9-4279-9dea-5ec7ba873e34"
      },
      "source": [
        "loss = history.history['loss']\n",
        "val_loss = history.history['val_loss']\n",
        "acc = history.history['accuracy']\n",
        "val_acc = history.history['val_accuracy']\n",
        "\n",
        "epochs = range(1, len(loss)+1)\n",
        "\n",
        "plt.plot(epochs, loss, 'b--', label='training loss')\n",
        "plt.plot(epochs, loss, 'r:', label='validation loss')\n",
        "plt.grid()\n",
        "plt.legend()\n",
        "\n",
        "plt.figure()\n",
        "plt.plot(epochs, acc, 'b--', label='training acc')\n",
        "plt.plot(epochs, val_acc , 'r:', label='validation acc')\n",
        "plt.grid()\n",
        "plt.legend()\n",
        "\n",
        "plt.show()"
      ],
      "execution_count": 43,
      "outputs": [
        {
          "output_type": "display_data",
          "data": {
            "image/png": "[encoded data removed]",
            "text/plain": [
              "<Figure size 432x288 with 1 Axes>"
            ]
          },
          "metadata": {}
        },
        {
          "output_type": "display_data",
          "data": {
            "image/png": "[encoded data removed]",
            "text/plain": [
              "<Figure size 432x288 with 1 Axes>"
            ]
          },
          "metadata": {}
        }
      ]
    },
    {
      "cell_type": "code",
      "metadata": {
        "colab": {
          "base_uri": "https://localhost:8080/"
        },
        "id": "09QEtpzVFbNw",
        "outputId": "f54d5ff3-8796-4aa9-b073-26800f0ca790"
      },
      "source": [
        "model.evaluate(pad_x_test, y_test)"
      ],
      "execution_count": 44,
      "outputs": [
        {
          "output_type": "stream",
          "name": "stdout",
          "text": [
            "782/782 [==============================] - 2s 3ms/step - loss: 0.3916 - accuracy: 0.8457\n"
          ]
        },
        {
          "output_type": "execute_result",
          "data": {
            "text/plain": [
              "[0.39156457781791687, 0.8457199931144714]"
            ]
          },
          "metadata": {},
          "execution_count": 44
        }
      ]
    },
    {
      "cell_type": "markdown",
      "metadata": {
        "id": "Oz_Iu_VHV7Z5"
      },
      "source": [
        "## Reuters 데이터"
      ]
    },
    {
      "cell_type": "markdown",
      "metadata": {
        "id": "4_Q6p0nhV7Z6"
      },
      "source": [
        "### 데이터 로드 및 전처리"
      ]
    },
    {
      "cell_type": "code",
      "metadata": {
        "id": "waEmkCowV7Z7"
      },
      "source": [
        "from tensorflow.keras.datasets import reuters"
      ],
      "execution_count": 29,
      "outputs": []
    },
    {
      "cell_type": "code",
      "metadata": {
        "id": "dggcmeJ4V7Z_",
        "colab": {
          "base_uri": "https://localhost:8080/"
        },
        "outputId": "6d492177-7e39-4a13-bec5-8073c7b0c7b6"
      },
      "source": [
        "num_words = 10000\n",
        "max_len = 500\n",
        "\n",
        "(input_train, y_train), (input_test, y_test) = reuters.load_data(num_words=num_words)\n",
        "\n",
        "print(len(input_train))\n",
        "print(len(input_test))\n"
      ],
      "execution_count": 30,
      "outputs": [
        {
          "output_type": "stream",
          "name": "stdout",
          "text": [
            "8982\n",
            "2246\n"
          ]
        }
      ]
    },
    {
      "cell_type": "code",
      "metadata": {
        "id": "EBOJIgbgV7aB",
        "colab": {
          "base_uri": "https://localhost:8080/"
        },
        "outputId": "405435b0-282a-45b5-ab4f-40f10f4c0cee"
      },
      "source": [
        "pad_x_train = pad_sequences(input_train, maxlen=max_len)\n",
        "pad_x_test = pad_sequences(input_test, maxlen=max_len)\n",
        "\n",
        "print(pad_x_train.shape)\n",
        "print(pad_x_test.shape)"
      ],
      "execution_count": 31,
      "outputs": [
        {
          "output_type": "stream",
          "name": "stdout",
          "text": [
            "(8982, 500)\n",
            "(2246, 500)\n"
          ]
        }
      ]
    },
    {
      "cell_type": "markdown",
      "metadata": {
        "id": "xehgNec0V7aE"
      },
      "source": [
        "### 모델 구성"
      ]
    },
    {
      "cell_type": "code",
      "metadata": {
        "id": "RTV2qF8_V7aE"
      },
      "source": [
        "def build_model():\n",
        "  model = Sequential()\n",
        "\n",
        "  model.add(Embedding(input_dim=num_words, output_dim=64, input_length=max_len))\n",
        "  model.add(Conv1D(64, 7, activation='relu'))\n",
        "  model.add(MaxPooling1D(7))\n",
        "  model.add(Conv1D(64, 5, activation='relu'))\n",
        "  model.add(MaxPooling1D(5))\n",
        "  model.add(GlobalMaxPooling1D())\n",
        "  model.add(Dense(46, activation='softmax'))\n",
        "\n",
        "  model.compile(optimizer='adam',\n",
        "                loss='sparse_categorical_crossentropy',\n",
        "                metrics=['accuracy'])\n",
        "  \n",
        "  return model"
      ],
      "execution_count": 32,
      "outputs": []
    },
    {
      "cell_type": "code",
      "metadata": {
        "id": "48n2W3xpV7aG",
        "colab": {
          "base_uri": "https://localhost:8080/"
        },
        "outputId": "6a29c40e-8cd2-48cb-9877-999efea99d2e"
      },
      "source": [
        "model = build_model()\n",
        "model.summary()"
      ],
      "execution_count": 33,
      "outputs": [
        {
          "output_type": "stream",
          "name": "stdout",
          "text": [
            "Model: \"sequential_4\"\n",
            "_________________________________________________________________\n",
            "Layer (type)                 Output Shape              Param #   \n",
            "=================================================================\n",
            "embedding_4 (Embedding)      (None, 500, 64)           640000    \n",
            "_________________________________________________________________\n",
            "conv1d_8 (Conv1D)            (None, 494, 64)           28736     \n",
            "_________________________________________________________________\n",
            "max_pooling1d_8 (MaxPooling1 (None, 70, 64)            0         \n",
            "_________________________________________________________________\n",
            "conv1d_9 (Conv1D)            (None, 66, 64)            20544     \n",
            "_________________________________________________________________\n",
            "max_pooling1d_9 (MaxPooling1 (None, 13, 64)            0         \n",
            "_________________________________________________________________\n",
            "global_max_pooling1d_1 (Glob (None, 64)                0         \n",
            "_________________________________________________________________\n",
            "dense_4 (Dense)              (None, 46)                2990      \n",
            "=================================================================\n",
            "Total params: 692,270\n",
            "Trainable params: 692,270\n",
            "Non-trainable params: 0\n",
            "_________________________________________________________________\n"
          ]
        }
      ]
    },
    {
      "cell_type": "markdown",
      "metadata": {
        "id": "WeRmu5WMV7aI"
      },
      "source": [
        "### 모델 학습"
      ]
    },
    {
      "cell_type": "code",
      "metadata": {
        "id": "BGVdYyIrV7aJ",
        "colab": {
          "base_uri": "https://localhost:8080/"
        },
        "outputId": "f8a42296-5184-45a1-dc00-328779e174ff"
      },
      "source": [
        "history = model.fit(pad_x_train, y_train,\n",
        "                    batch_size=128, epochs=30,\n",
        "                    validation_split=0.2)"
      ],
      "execution_count": 34,
      "outputs": [
        {
          "output_type": "stream",
          "name": "stdout",
          "text": [
            "Epoch 1/30\n",
            "57/57 [==============================] - 31s 28ms/step - loss: 2.7627 - accuracy: 0.3389 - val_loss: 2.0996 - val_accuracy: 0.5064\n",
            "Epoch 2/30\n",
            "57/57 [==============================] - 1s 20ms/step - loss: 1.8988 - accuracy: 0.5219 - val_loss: 1.7370 - val_accuracy: 0.5498\n",
            "Epoch 3/30\n",
            "57/57 [==============================] - 1s 21ms/step - loss: 1.6440 - accuracy: 0.5907 - val_loss: 1.5911 - val_accuracy: 0.6105\n",
            "Epoch 4/30\n",
            "57/57 [==============================] - 1s 20ms/step - loss: 1.4485 - accuracy: 0.6512 - val_loss: 1.4517 - val_accuracy: 0.6516\n",
            "Epoch 5/30\n",
            "57/57 [==============================] - 1s 20ms/step - loss: 1.2338 - accuracy: 0.6937 - val_loss: 1.3408 - val_accuracy: 0.6850\n",
            "Epoch 6/30\n",
            "57/57 [==============================] - 1s 20ms/step - loss: 1.0482 - accuracy: 0.7364 - val_loss: 1.2909 - val_accuracy: 0.6945\n",
            "Epoch 7/30\n",
            "57/57 [==============================] - 1s 20ms/step - loss: 0.8789 - accuracy: 0.7791 - val_loss: 1.2827 - val_accuracy: 0.7117\n",
            "Epoch 8/30\n",
            "57/57 [==============================] - 1s 20ms/step - loss: 0.7284 - accuracy: 0.8202 - val_loss: 1.2985 - val_accuracy: 0.7212\n",
            "Epoch 9/30\n",
            "57/57 [==============================] - 1s 20ms/step - loss: 0.6071 - accuracy: 0.8470 - val_loss: 1.3408 - val_accuracy: 0.7262\n",
            "Epoch 10/30\n",
            "57/57 [==============================] - 1s 21ms/step - loss: 0.4959 - accuracy: 0.8800 - val_loss: 1.3797 - val_accuracy: 0.7295\n",
            "Epoch 11/30\n",
            "57/57 [==============================] - 1s 20ms/step - loss: 0.4079 - accuracy: 0.9026 - val_loss: 1.4544 - val_accuracy: 0.7245\n",
            "Epoch 12/30\n",
            "57/57 [==============================] - 1s 21ms/step - loss: 0.3324 - accuracy: 0.9189 - val_loss: 1.5302 - val_accuracy: 0.7279\n",
            "Epoch 13/30\n",
            "57/57 [==============================] - 1s 20ms/step - loss: 0.2724 - accuracy: 0.9372 - val_loss: 1.5580 - val_accuracy: 0.7284\n",
            "Epoch 14/30\n",
            "57/57 [==============================] - 1s 20ms/step - loss: 0.2369 - accuracy: 0.9467 - val_loss: 1.6104 - val_accuracy: 0.7323\n",
            "Epoch 15/30\n",
            "57/57 [==============================] - 1s 21ms/step - loss: 0.2126 - accuracy: 0.9488 - val_loss: 1.6645 - val_accuracy: 0.7257\n",
            "Epoch 16/30\n",
            "57/57 [==============================] - 1s 21ms/step - loss: 0.1849 - accuracy: 0.9567 - val_loss: 1.6846 - val_accuracy: 0.7323\n",
            "Epoch 17/30\n",
            "57/57 [==============================] - 1s 20ms/step - loss: 0.1608 - accuracy: 0.9602 - val_loss: 1.7655 - val_accuracy: 0.7273\n",
            "Epoch 18/30\n",
            "57/57 [==============================] - 1s 20ms/step - loss: 0.1572 - accuracy: 0.9624 - val_loss: 1.7581 - val_accuracy: 0.7307\n",
            "Epoch 19/30\n",
            "57/57 [==============================] - 1s 22ms/step - loss: 0.1532 - accuracy: 0.9612 - val_loss: 1.8316 - val_accuracy: 0.7234\n",
            "Epoch 20/30\n",
            "57/57 [==============================] - 1s 21ms/step - loss: 0.1353 - accuracy: 0.9623 - val_loss: 1.8054 - val_accuracy: 0.7234\n",
            "Epoch 21/30\n",
            "57/57 [==============================] - 1s 21ms/step - loss: 0.1224 - accuracy: 0.9665 - val_loss: 1.8028 - val_accuracy: 0.7357\n",
            "Epoch 22/30\n",
            "57/57 [==============================] - 1s 21ms/step - loss: 0.1224 - accuracy: 0.9640 - val_loss: 1.8219 - val_accuracy: 0.7307\n",
            "Epoch 23/30\n",
            "57/57 [==============================] - 1s 20ms/step - loss: 0.1175 - accuracy: 0.9662 - val_loss: 1.8733 - val_accuracy: 0.7251\n",
            "Epoch 24/30\n",
            "57/57 [==============================] - 1s 21ms/step - loss: 0.1115 - accuracy: 0.9646 - val_loss: 1.8286 - val_accuracy: 0.7290\n",
            "Epoch 25/30\n",
            "57/57 [==============================] - 1s 20ms/step - loss: 0.1148 - accuracy: 0.9635 - val_loss: 1.9624 - val_accuracy: 0.7156\n",
            "Epoch 26/30\n",
            "57/57 [==============================] - 1s 20ms/step - loss: 0.1071 - accuracy: 0.9656 - val_loss: 1.8426 - val_accuracy: 0.7251\n",
            "Epoch 27/30\n",
            "57/57 [==============================] - 1s 20ms/step - loss: 0.1176 - accuracy: 0.9613 - val_loss: 1.8492 - val_accuracy: 0.7368\n",
            "Epoch 28/30\n",
            "57/57 [==============================] - 1s 20ms/step - loss: 0.1089 - accuracy: 0.9651 - val_loss: 1.9157 - val_accuracy: 0.7240\n",
            "Epoch 29/30\n",
            "57/57 [==============================] - 1s 20ms/step - loss: 0.1122 - accuracy: 0.9642 - val_loss: 1.8854 - val_accuracy: 0.7334\n",
            "Epoch 30/30\n",
            "57/57 [==============================] - 1s 21ms/step - loss: 0.1127 - accuracy: 0.9652 - val_loss: 1.8470 - val_accuracy: 0.7312\n"
          ]
        }
      ]
    },
    {
      "cell_type": "markdown",
      "metadata": {
        "id": "ao8NNj2SV7aL"
      },
      "source": [
        "### 시각화"
      ]
    },
    {
      "cell_type": "code",
      "metadata": {
        "id": "D_CisVtyV7aL",
        "colab": {
          "base_uri": "https://localhost:8080/",
          "height": 507
        },
        "outputId": "ad5c7ae4-96ab-4c7d-a900-40df301a374e"
      },
      "source": [
        "loss = history.history['loss']\n",
        "val_loss = history.history['val_loss']\n",
        "acc = history.history['accuracy']\n",
        "val_acc = history.history['val_accuracy']\n",
        "\n",
        "epochs = range(1, len(loss)+1)\n",
        "\n",
        "plt.plot(epochs, loss, 'b--', label='training loss')\n",
        "plt.plot(epochs, loss, 'r:', label='validation loss')\n",
        "plt.grid()\n",
        "plt.legend()\n",
        "\n",
        "plt.figure()\n",
        "plt.plot(epochs, acc, 'b--', label='training acc')\n",
        "plt.plot(epochs, val_acc , 'r:', label='validation acc')\n",
        "plt.grid()\n",
        "plt.legend()\n",
        "\n",
        "plt.show()"
      ],
      "execution_count": 35,
      "outputs": [
        {
          "output_type": "display_data",
          "data": {
            "image/png": "[encoded data removed]",
            "text/plain": [
              "<Figure size 432x288 with 1 Axes>"
            ]
          },
          "metadata": {}
        },
        {
          "output_type": "display_data",
          "data": {
            "image/png": "[encoded data removed]",
            "text/plain": [
              "<Figure size 432x288 with 1 Axes>"
            ]
          },
          "metadata": {}
        }
      ]
    },
    {
      "cell_type": "code",
      "metadata": {
        "id": "NCsNsoiUV7aP",
        "colab": {
          "base_uri": "https://localhost:8080/"
        },
        "outputId": "bd6badbd-0b08-457b-e1d6-0a16930d9e5b"
      },
      "source": [
        "model.evaluate(pad_x_test, y_test)"
      ],
      "execution_count": 36,
      "outputs": [
        {
          "output_type": "stream",
          "name": "stdout",
          "text": [
            "71/71 [==============================] - 0s 5ms/step - loss: 1.8340 - accuracy: 0.7364\n"
          ]
        },
        {
          "output_type": "execute_result",
          "data": {
            "text/plain": [
              "[1.8339585065841675, 0.7364202737808228]"
            ]
          },
          "metadata": {},
          "execution_count": 36
        }
      ]
    },
    {
      "cell_type": "code",
      "metadata": {
        "id": "Mqi0fcPXI4Gv"
      },
      "source": [
        ""
      ],
      "execution_count": null,
      "outputs": []
    }
  ]
}